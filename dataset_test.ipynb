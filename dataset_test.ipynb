{
 "cells": [
  {
   "cell_type": "code",
   "execution_count": 1,
   "metadata": {},
   "outputs": [],
   "source": [
    "import argparse\n",
    "import torch\n",
    "from torch_geometric import utils\n",
    "from torch_geometric.datasets import TUDataset\n",
    "from torch_geometric import data"
   ]
  },
  {
   "cell_type": "code",
   "execution_count": 2,
   "metadata": {},
   "outputs": [],
   "source": [
    "dataset = TUDataset(root = \"molecule_dataset\", name = \"MUTAG\")"
   ]
  },
  {
   "cell_type": "code",
   "execution_count": 3,
   "metadata": {},
   "outputs": [
    {
     "name": "stdout",
     "output_type": "stream",
     "text": [
      "28\n"
     ]
    }
   ],
   "source": [
    "maxNodes = 0\n",
    "for i in range(len(dataset)):\n",
    "    n = dataset[i].num_nodes\n",
    "    if (n > maxNodes):\n",
    "        maxNodes = n\n",
    "\n",
    "print(maxNodes)"
   ]
  },
  {
   "cell_type": "code",
   "execution_count": 4,
   "metadata": {},
   "outputs": [
    {
     "data": {
      "text/plain": [
       "{'edge_index': tensor([[ 0,  0,  1,  1,  2,  2,  3,  3,  3,  4,  4,  4,  5,  5,  6,  6,  7,  7,\n",
       "          8,  8,  8,  9,  9,  9, 10, 10, 11, 11, 12, 12, 12, 13, 13, 14, 14, 14,\n",
       "         15, 16],\n",
       "        [ 1,  5,  0,  2,  1,  3,  2,  4,  9,  3,  5,  6,  0,  4,  4,  7,  6,  8,\n",
       "          7,  9, 13,  3,  8, 10,  9, 11, 10, 12, 11, 13, 14,  8, 12, 12, 15, 16,\n",
       "         14, 14]]), 'x': tensor([[1., 0., 0., 0., 0., 0., 0.],\n",
       "        [1., 0., 0., 0., 0., 0., 0.],\n",
       "        [1., 0., 0., 0., 0., 0., 0.],\n",
       "        [1., 0., 0., 0., 0., 0., 0.],\n",
       "        [1., 0., 0., 0., 0., 0., 0.],\n",
       "        [1., 0., 0., 0., 0., 0., 0.],\n",
       "        [1., 0., 0., 0., 0., 0., 0.],\n",
       "        [1., 0., 0., 0., 0., 0., 0.],\n",
       "        [1., 0., 0., 0., 0., 0., 0.],\n",
       "        [1., 0., 0., 0., 0., 0., 0.],\n",
       "        [1., 0., 0., 0., 0., 0., 0.],\n",
       "        [1., 0., 0., 0., 0., 0., 0.],\n",
       "        [1., 0., 0., 0., 0., 0., 0.],\n",
       "        [1., 0., 0., 0., 0., 0., 0.],\n",
       "        [0., 1., 0., 0., 0., 0., 0.],\n",
       "        [0., 0., 1., 0., 0., 0., 0.],\n",
       "        [0., 0., 1., 0., 0., 0., 0.]]), 'edge_attr': tensor([[1., 0., 0., 0.],\n",
       "        [1., 0., 0., 0.],\n",
       "        [1., 0., 0., 0.],\n",
       "        [1., 0., 0., 0.],\n",
       "        [1., 0., 0., 0.],\n",
       "        [1., 0., 0., 0.],\n",
       "        [1., 0., 0., 0.],\n",
       "        [1., 0., 0., 0.],\n",
       "        [1., 0., 0., 0.],\n",
       "        [1., 0., 0., 0.],\n",
       "        [1., 0., 0., 0.],\n",
       "        [1., 0., 0., 0.],\n",
       "        [1., 0., 0., 0.],\n",
       "        [1., 0., 0., 0.],\n",
       "        [1., 0., 0., 0.],\n",
       "        [1., 0., 0., 0.],\n",
       "        [1., 0., 0., 0.],\n",
       "        [1., 0., 0., 0.],\n",
       "        [1., 0., 0., 0.],\n",
       "        [1., 0., 0., 0.],\n",
       "        [1., 0., 0., 0.],\n",
       "        [1., 0., 0., 0.],\n",
       "        [1., 0., 0., 0.],\n",
       "        [1., 0., 0., 0.],\n",
       "        [1., 0., 0., 0.],\n",
       "        [1., 0., 0., 0.],\n",
       "        [1., 0., 0., 0.],\n",
       "        [1., 0., 0., 0.],\n",
       "        [1., 0., 0., 0.],\n",
       "        [1., 0., 0., 0.],\n",
       "        [0., 1., 0., 0.],\n",
       "        [1., 0., 0., 0.],\n",
       "        [1., 0., 0., 0.],\n",
       "        [0., 1., 0., 0.],\n",
       "        [0., 0., 1., 0.],\n",
       "        [0., 1., 0., 0.],\n",
       "        [0., 0., 1., 0.],\n",
       "        [0., 1., 0., 0.]]), 'y': tensor([1])}"
      ]
     },
     "execution_count": 4,
     "metadata": {},
     "output_type": "execute_result"
    }
   ],
   "source": [
    "testMol = dataset[0]\n",
    "s = testMol.edge_stores[0]\n",
    "s"
   ]
  },
  {
   "cell_type": "code",
   "execution_count": 5,
   "metadata": {},
   "outputs": [
    {
     "name": "stdout",
     "output_type": "stream",
     "text": [
      "torch.Size([2, 38])\n",
      "torch.Size([17, 7])\n",
      "torch.Size([38, 4])\n"
     ]
    }
   ],
   "source": [
    "print(s['edge_index'].size())   # 2 x E edges\n",
    "print(s['x'].size())            # N nodes x 7 node features\n",
    "print(s['edge_attr'].size())    #E edges X 4 edge features"
   ]
  },
  {
   "cell_type": "markdown",
   "metadata": {},
   "source": [
    "GOAL:\n",
    "1) create ordered map of (edge_type, vector_idx)\n",
    "2) create function to use map to identify vector location"
   ]
  },
  {
   "cell_type": "code",
   "execution_count": 6,
   "metadata": {},
   "outputs": [],
   "source": [
    "# MAKE MAP\n",
    "vector_map = dict()\n",
    "\n",
    "pos_ctr = 0\n",
    "for i in range(28):\n",
    "    for j in range(i):\n",
    "        vector_map[str(j) + \"-\" + str(i)] = pos_ctr\n",
    "        pos_ctr += 1"
   ]
  },
  {
   "cell_type": "code",
   "execution_count": 14,
   "metadata": {},
   "outputs": [
    {
     "data": {
      "text/plain": [
       "574"
      ]
     },
     "execution_count": 14,
     "metadata": {},
     "output_type": "execute_result"
    }
   ],
   "source": [
    "# VECTOR FINAL DIMENSIONS:\n",
    "\n",
    "# adj matrix = len(vector_map)\n",
    "dim1 = len(vector_map)\n",
    "\n",
    "# feature matrix = (max nodes) * 7\n",
    "dim2 = maxNodes * 7\n",
    "\n",
    "finalDim = dim1 + dim2\n",
    "finalDim"
   ]
  },
  {
   "cell_type": "code",
   "execution_count": 17,
   "metadata": {},
   "outputs": [],
   "source": [
    "# FUNCTION TO MAP EDGES TO VECTOR + CONCATS\n",
    "def get_input_vector(input: data.Data):\n",
    "    adj_vector = torch.zeros(size = (len(vector_map), 1))\n",
    "    indices = input.edge_stores[0]['edge_index']\n",
    "    features = input.edge_stores[0]['x']\n",
    "\n",
    "    e1 = indices[0].tolist()\n",
    "    e2 = indices[1].tolist()\n",
    "    \n",
    "    # fill max atom adj matrix w/ connections\n",
    "    for i in range(len(e1)):\n",
    "        key = str(e1[i]) + \"-\" + str(e2[i])\n",
    "        if key in vector_map:\n",
    "            idx = vector_map[key]\n",
    "            adj_vector[idx] = 1\n",
    "\n",
    "    # reshape feature matrix into vector\n",
    "    feature_vec = torch.reshape(s['x'], shape = (-1,1))\n",
    "\n",
    "    # concatenate vectorized feature & adj matrices\n",
    "    concat_vector = torch.cat((adj_vector, feature_vec))\n",
    "\n",
    "    prevSize = concat_vector.size(dim = 0)\n",
    "    padSize = 574 - prevSize\n",
    "    padding = (0, 0, 0, padSize)\n",
    "\n",
    "    # pad with 0s for consistency\n",
    "    concat_vector = torch.nn.functional.pad(concat_vector, padding, value = 0)\n",
    "\n",
    "    return concat_vector\n"
   ]
  },
  {
   "cell_type": "code",
   "execution_count": null,
   "metadata": {},
   "outputs": [],
   "source": [
    "# EXAMPLE\n",
    "get_input_vector(dataset[0])"
   ]
  },
  {
   "cell_type": "markdown",
   "metadata": {},
   "source": [
    "TODO:\n",
    "- add padding to vector (in function)\n",
    "    - CHECK -- does filling vector w/ zeros work w/ masking layer? or is different type required\n",
    "    - CHECK -- 574 x 1 desired or 1 x 574?\n",
    "- create dataset class & dataloader (?)\n",
    "- look into masking layer for GNN"
   ]
  },
  {
   "cell_type": "markdown",
   "metadata": {},
   "source": []
  }
 ],
 "metadata": {
  "kernelspec": {
   "display_name": "env",
   "language": "python",
   "name": "python3"
  },
  "language_info": {
   "codemirror_mode": {
    "name": "ipython",
    "version": 3
   },
   "file_extension": ".py",
   "mimetype": "text/x-python",
   "name": "python",
   "nbconvert_exporter": "python",
   "pygments_lexer": "ipython3",
   "version": "3.12.1"
  }
 },
 "nbformat": 4,
 "nbformat_minor": 2
}
